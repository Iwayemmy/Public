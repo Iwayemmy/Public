{
 "cells": [
  {
   "cell_type": "markdown",
   "id": "e9c23be0",
   "metadata": {},
   "source": [
    "Step 1: Write a function that can print out a board. Set up your board as a list, where each index 1-9 corresponds with a number on a number pad, so you get a 3 by 3 board representation."
   ]
  },
  {
   "cell_type": "code",
   "execution_count": 1,
   "id": "dca29a91",
   "metadata": {},
   "outputs": [],
   "source": [
    "def display_board(board):\n",
    "    #for i in board:\n",
    "       # display (list(board[0:3]), list(board[3:6]), list(board[6:9]))\n",
    "      #  break\n",
    "    for i in list(range(0,(len(board)))):\n",
    "        print((board[0]), (board[1]), (board[2]))\n",
    "        print('_|_|_')\n",
    "        print((board[3]), (board[4]), (board[5]))\n",
    "        print('_|_|_')\n",
    "        print((board[6]), (board[7]), (board[8]))\n",
    "        print(' | | ')\n",
    "        break"
   ]
  },
  {
   "cell_type": "code",
   "execution_count": 2,
   "id": "cabc5228",
   "metadata": {},
   "outputs": [
    {
     "name": "stdout",
     "output_type": "stream",
     "text": [
      "1 2 3\n",
      "_|_|_\n",
      "4 5 6\n",
      "_|_|_\n",
      "7 8 9\n",
      " | | \n"
     ]
    }
   ],
   "source": [
    "board = [1,2,3,4,5,6,7,8,9]\n",
    "display_board(board)"
   ]
  },
  {
   "cell_type": "markdown",
   "id": "a23e212a",
   "metadata": {},
   "source": [
    "Step 2a: Write a function that can take in a player input and assign their marker as 'X' or 'O'. Think about using while loops to continually ask until you get a correct answer."
   ]
  },
  {
   "cell_type": "code",
   "execution_count": 3,
   "id": "11df1354",
   "metadata": {},
   "outputs": [],
   "source": [
    "def assign_maker_player():\n",
    "    u = ['Y', 'N']\n",
    "    \n",
    "    r = 'wrong'\n",
    "    while r not in u:\n",
    "            response = input('Will you like to be player 1? (Y or N): ')\n",
    "            r = response.upper()\n",
    "\n",
    "    while r in u:\n",
    "        if r == 'Y':\n",
    "            Player1 = 1\n",
    "            print (f\"As Player1, your position marker is therefore: 'X'; to play input {Player1} while Player2 input 2\")\n",
    "            break\n",
    "        \n",
    "        if r == 'N':\n",
    "            Player2 = 2\n",
    "            print (f\"Then you are automatically Player2 and your position marker is therefore: 'O'; to play input {Player2}, while Player1 input 1\")\n",
    "            break\n",
    "            \n",
    "    return \"NOW LET'S PLAY\"   "
   ]
  },
  {
   "cell_type": "code",
   "execution_count": 4,
   "id": "0b3cde5b",
   "metadata": {},
   "outputs": [
    {
     "name": "stdout",
     "output_type": "stream",
     "text": [
      "Will you like to be player 1? (Y or N): y\n",
      "As Player1, your position marker is therefore: 'X'; to play input 1 while Player2 input 2\n"
     ]
    },
    {
     "data": {
      "text/plain": [
       "\"NOW LET'S PLAY\""
      ]
     },
     "execution_count": 4,
     "metadata": {},
     "output_type": "execute_result"
    }
   ],
   "source": [
    "assign_maker_player()"
   ]
  },
  {
   "cell_type": "markdown",
   "id": "fa4700fc",
   "metadata": {},
   "source": [
    "Step 2b: Write a function that can take in a player input and assign their marker as 'X' or 'O'. Think about using while loops to continually ask until you get a correct answer."
   ]
  },
  {
   "cell_type": "code",
   "execution_count": 5,
   "id": "55faed64",
   "metadata": {},
   "outputs": [],
   "source": [
    "def player_input():\n",
    "    Player1 = 1\n",
    "    Player2 = 2\n",
    "    ipt='wrong'\n",
    "    \n",
    "    ipt = int(input('Who is playing? (if Player1 input 1; if Player2 input 2): '))\n",
    "                    \n",
    "    while ipt not in [1,2]:\n",
    "        ipt = int(input('Sorry invalid input! \\nWho is playing? (input 1 or 2): '))\n",
    "        \n",
    "    while ipt in [1,2]:\n",
    "        if ipt == Player1:\n",
    "            return'X'\n",
    "\n",
    "        if ipt == Player2:\n",
    "            return'O'\n",
    "        break"
   ]
  },
  {
   "cell_type": "code",
   "execution_count": 6,
   "id": "bb9a069a",
   "metadata": {},
   "outputs": [
    {
     "name": "stdout",
     "output_type": "stream",
     "text": [
      "Who is playing? (if Player1 input 1; if Player2 input 2): 1\n"
     ]
    },
    {
     "data": {
      "text/plain": [
       "'X'"
      ]
     },
     "execution_count": 6,
     "metadata": {},
     "output_type": "execute_result"
    }
   ],
   "source": [
    "player_input()"
   ]
  },
  {
   "cell_type": "code",
   "execution_count": 7,
   "id": "85c7ddda",
   "metadata": {},
   "outputs": [],
   "source": [
    "def place_marker(board, marker, position):\n",
    "    marker = player_input()\n",
    "    mp = int(input('Choose any available position on board: '))\n",
    "    \n",
    "    while mp not in board:\n",
    "        mp = int(input('Sorry invalid input! \\nChoose any available number or position on board: '))\n",
    "\n",
    "    while mp in board:\n",
    "        if 0<mp<=9:\n",
    "            position = mp-1\n",
    "            for p in board:\n",
    "                board[position] = marker\n",
    "                return(display_board(board))"
   ]
  },
  {
   "cell_type": "code",
   "execution_count": 8,
   "id": "11b764d5",
   "metadata": {},
   "outputs": [
    {
     "name": "stdout",
     "output_type": "stream",
     "text": [
      "Who is playing? (if Player1 input 1; if Player2 input 2): 1\n",
      "Choose any available position on board: 1\n",
      "X 2 3\n",
      "_|_|_\n",
      "4 5 6\n",
      "_|_|_\n",
      "7 8 9\n",
      " | | \n"
     ]
    }
   ],
   "source": [
    "place_marker(board, 'marker', 'position')"
   ]
  },
  {
   "cell_type": "markdown",
   "id": "cf707768",
   "metadata": {},
   "source": [
    "Step 4: Write a function that takes in a board and a mark (X or O) and then checks to see if that mark has won."
   ]
  },
  {
   "cell_type": "code",
   "execution_count": 38,
   "id": "1eb25557",
   "metadata": {},
   "outputs": [],
   "source": [
    "def win_check(board):\n",
    "    l=board.count('X')\n",
    "    m=board.count('O')\n",
    "    a=[board[0],board[3],board[6]]\n",
    "    b=[board[1],board[4],board[7]]\n",
    "    c=[board[2],board[5],board[8]]\n",
    "    d=[board[0],board[4],board[8]]\n",
    "    e=[board[2],board[4],board[6]]\n",
    "    \n",
    "    while l+m<5:\n",
    "        return 'Keep playing'\n",
    "    \n",
    "    while l+m<=9:\n",
    "        if board[0:3]== ['X','X','X']:\n",
    "            return ('Congratulations you have Won!')\n",
    "        \n",
    "        elif board[0:3]== ['O','O','O']:\n",
    "            return ('Congratulations you have Won!')\n",
    "        \n",
    "        elif board[3:6] == ['X','X','X']:\n",
    "            return ('Congratulations you have Won!')\n",
    "        \n",
    "        elif board[3:6] == ['O','O','O']:\n",
    "            return ('Congratulations you have Won!')\n",
    "        \n",
    "        elif board[6:9] == ['X','X','X']:\n",
    "            return ('Congratulations you have Won!')\n",
    "        \n",
    "        elif board[6:9] == ['O','O','O']:\n",
    "            return ('Congratulations you have Won!')\n",
    "        \n",
    "        elif a == ['X','X','X']:\n",
    "            return ('Congratulations you have Won!')\n",
    "        \n",
    "        elif a == ['O','O','O']:\n",
    "            return ('Congratulations you have Won!')\n",
    "        \n",
    "        elif b == ['X','X','X']:\n",
    "            return ('Congratulations you have Won!')\n",
    "        \n",
    "        elif b == ['O','O','O']:\n",
    "            return ('Congratulations you have Won!')\n",
    "        \n",
    "        elif c == ['X','X','X']:\n",
    "            return ('Congratulations you have Won!')\n",
    "        \n",
    "        elif c == ['O','O','O']:\n",
    "            return ('Congratulations you have Won!')\n",
    "        \n",
    "        elif d == ['X','X','X']:\n",
    "            return ('Congratulations you have Won!')\n",
    "        \n",
    "        elif d == ['O','O','O']:\n",
    "            return ('Congratulations you have Won!')\n",
    "        \n",
    "        elif e == ['X','X','X']:\n",
    "            return ('Congratulations you have Won!')\n",
    "        \n",
    "        elif e == ['O','O','O']:\n",
    "            return ('Congratulations you have Won!')\n",
    "        \n",
    "        elif board[0:3]!= ['X','X','X']:\n",
    "            return ('Keep playing, no winner yet!')\n",
    "        \n",
    "        elif board[0:3]!= ['O','O','O']:\n",
    "            return ('Keep playing, no winner yet!')\n",
    "        \n",
    "        elif board[3:6] != ['X','X','X']:\n",
    "            return ('Keep playing, no winner yet!')\n",
    "        \n",
    "        elif board[3:6] != ['O','O','O']:\n",
    "            return ('Keep playing, no winner yet!')\n",
    "        \n",
    "        elif board[6:9] != ['X','X','X']:\n",
    "            return ('Keep playing, no winner yet!')\n",
    "        \n",
    "        elif board[6:9] != ['O','O','O']:\n",
    "            return ('Keep playing, no winner yet!')\n",
    "        \n",
    "        elif a != ['X','X','X']:\n",
    "            return ('Keep playing, no winner yet!')\n",
    "        \n",
    "        elif a != ['O','O','O']:\n",
    "            return ('Keep playing, no winner yet!')\n",
    "        \n",
    "        elif b != ['X','X','X']:\n",
    "            return ('Keep playing, no winner yet!')\n",
    "        \n",
    "        elif b != ['O','O','O']:\n",
    "            return ('Keep playing, no winner yet!')\n",
    "        \n",
    "        elif c != ['X','X','X']:\n",
    "            return ('Keep playing, no winner yet!')\n",
    "        \n",
    "        elif c != ['O','O','O']:\n",
    "            return ('Keep playing, no winner yet!')\n",
    "        \n",
    "        elif d != ['X','X','X']:\n",
    "            return ('Keep playing, no winner yet!')\n",
    "        \n",
    "        elif d != ['O','O','O']:\n",
    "            return ('Keep playing, no winner yet!')\n",
    "        \n",
    "        elif e != ['X','X','X']:\n",
    "            return ('Keep playing, no winner yet!')\n",
    "        \n",
    "        elif e != ['O','O','O']:\n",
    "            return ('Keep playing, no winner yet!')\n",
    "        break\n",
    "        \n",
    "    while l+m == 9:\n",
    "        return ('Sorry game over with no Winner!')\n",
    "        break\n",
    "        "
   ]
  },
  {
   "cell_type": "code",
   "execution_count": 39,
   "id": "74645db0",
   "metadata": {},
   "outputs": [
    {
     "data": {
      "text/plain": [
       "'Congratulations you have Won!'"
      ]
     },
     "execution_count": 39,
     "metadata": {},
     "output_type": "execute_result"
    }
   ],
   "source": [
    "win_check(board)"
   ]
  },
  {
   "cell_type": "markdown",
   "id": "b3ff96cc",
   "metadata": {},
   "source": [
    "Step 9: Write a function that asks the player if they want to play again and returns a boolean True if they do want to play again."
   ]
  },
  {
   "cell_type": "code",
   "execution_count": 14,
   "id": "1f21484b",
   "metadata": {},
   "outputs": [],
   "source": [
    "def replay():\n",
    "    l=board.count('X')\n",
    "    m=board.count('O')\n",
    "    \n",
    "    if win_check(board) == 'Congratulations you have Won!' or 'No winner yet':\n",
    "    \n",
    "        q = input('Will you like to play again? Enter(Y or N): ')\n",
    "        question = q.upper()\n",
    "        \n",
    "        while question not in ['Y', 'N']:\n",
    "            q = input('Sorry Invalid Input! \\nWill you like to play again? Enter(Y or N): ')\n",
    "        \n",
    "        while question in ['Y', 'N']:\n",
    "            if question == 'Y':\n",
    "                return True\n",
    "            else:\n",
    "                return False"
   ]
  },
  {
   "cell_type": "code",
   "execution_count": 40,
   "id": "c7dd55b9",
   "metadata": {},
   "outputs": [
    {
     "name": "stdout",
     "output_type": "stream",
     "text": [
      "Welcome to Tic Tac Toe! a game of two(2) players either plays \"X\" or \"O\"\n",
      "1 2 3\n",
      "_|_|_\n",
      "4 5 6\n",
      "_|_|_\n",
      "7 8 9\n",
      " | | \n",
      "Will you like to be player 1? (Y or N): y\n",
      "As Player1, your position marker is therefore: 'X'; to play input 1 while Player2 input 2\n",
      "Who is playing? (if Player1 input 1; if Player2 input 2): 1\n",
      "Choose any available position on board: 1\n",
      "X 2 3\n",
      "_|_|_\n",
      "4 5 6\n",
      "_|_|_\n",
      "7 8 9\n",
      " | | \n",
      "Who is playing? (if Player1 input 1; if Player2 input 2): 2\n",
      "Choose any available position on board: 3\n",
      "X 2 O\n",
      "_|_|_\n",
      "4 5 6\n",
      "_|_|_\n",
      "7 8 9\n",
      " | | \n",
      "Who is playing? (if Player1 input 1; if Player2 input 2): 1\n",
      "Choose any available position on board: 4\n",
      "X 2 O\n",
      "_|_|_\n",
      "X 5 6\n",
      "_|_|_\n",
      "7 8 9\n",
      " | | \n",
      "Who is playing? (if Player1 input 1; if Player2 input 2): 2\n",
      "Choose any available position on board: 7\n",
      "X 2 O\n",
      "_|_|_\n",
      "X 5 6\n",
      "_|_|_\n",
      "O 8 9\n",
      " | | \n",
      "Who is playing? (if Player1 input 1; if Player2 input 2): 1\n",
      "Choose any available position on board: 5\n",
      "X 2 O\n",
      "_|_|_\n",
      "X X 6\n",
      "_|_|_\n",
      "O 8 9\n",
      " | | \n",
      "Who is playing? (if Player1 input 1; if Player2 input 2): 2\n",
      "Choose any available position on board: 6\n",
      "X 2 O\n",
      "_|_|_\n",
      "X X O\n",
      "_|_|_\n",
      "O 8 9\n",
      " | | \n",
      "Who is playing? (if Player1 input 1; if Player2 input 2): 1\n",
      "Choose any available position on board: 9\n",
      "X 2 O\n",
      "_|_|_\n",
      "X X O\n",
      "_|_|_\n",
      "O 8 X\n",
      " | | \n",
      "Congratulations you have Won!\n",
      "Will you like to play again? Enter(Y or N): n\n",
      "Will you like to play again? Enter(Y or N): n\n"
     ]
    }
   ],
   "source": [
    "print('***Welcome to Tic Tac Toe! a game of two(2) players either plays \"X\" or \"O\"***')\n",
    "board = [1,2,3,4,5,6,7,8,9]\n",
    "l=board.count('X')\n",
    "m=board.count('O')\n",
    "game_on = True\n",
    "\n",
    "display_board(board) # this display the available position on the board to pick from\n",
    "\n",
    "while game_on:\n",
    "    assign_maker_player() #this assigns Player's marker either 'X' or 'O' after choosing who plays first\n",
    "    place_marker(board, 'marker', 'position') #this takes the players marker and places it on eachplayer's choice position on the board\n",
    "    win_check(board) #this runs a check if there is a winner yet\n",
    "    while win_check(board) == 'Keep playing':\n",
    "        place_marker(board, 'marker', 'position')\n",
    "        \n",
    "    while win_check(board) == 'Keep playing, no winner yet!':    \n",
    "        place_marker(board, 'marker', 'position')\n",
    "        \n",
    "    while win_check(board) == 'Sorry game over with no Winner!':\n",
    "        print (win_check(board))\n",
    "        break    \n",
    "    \n",
    "    #if replay() == True:\n",
    "        #print('Great! Relaunch the game')\n",
    "        #break\n",
    "    \n",
    "    #elif replay() == False:\n",
    "        #break\n",
    "        #from IPython.display import clear_output\n",
    "        #clear_output()\n",
    "    \n",
    "    \n",
    "    while win_check(board) == 'Congratulations you have Won!':\n",
    "        print (win_check(board))\n",
    "        break\n",
    "        \n",
    "        \n",
    "    if replay() == True:\n",
    "        print('Great! Relaunch the game')\n",
    "        break\n",
    "    \n",
    "    elif replay() == False:\n",
    "        break\n",
    "        from IPython.display import clear_output\n",
    "        clear_output() #CLEARS THE NEXT OUTPUT\n",
    "        "
   ]
  },
  {
   "cell_type": "code",
   "execution_count": null,
   "id": "90b4b75a",
   "metadata": {},
   "outputs": [],
   "source": []
  },
  {
   "cell_type": "code",
   "execution_count": null,
   "id": "67126271",
   "metadata": {},
   "outputs": [],
   "source": []
  }
 ],
 "metadata": {
  "kernelspec": {
   "display_name": "Python 3 (ipykernel)",
   "language": "python",
   "name": "python3"
  },
  "language_info": {
   "codemirror_mode": {
    "name": "ipython",
    "version": 3
   },
   "file_extension": ".py",
   "mimetype": "text/x-python",
   "name": "python",
   "nbconvert_exporter": "python",
   "pygments_lexer": "ipython3",
   "version": "3.9.7"
  }
 },
 "nbformat": 4,
 "nbformat_minor": 5
}
